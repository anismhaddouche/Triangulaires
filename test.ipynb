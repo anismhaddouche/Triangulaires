{
 "cells": [
  {
   "cell_type": "code",
   "execution_count": 24,
   "metadata": {},
   "outputs": [],
   "source": [
    "import pandas as pd "
   ]
  },
  {
   "cell_type": "code",
   "execution_count": 25,
   "metadata": {},
   "outputs": [
    {
     "name": "stdout",
     "output_type": "stream",
     "text": [
      "Destination             GUIDEZ MONCHY LE PREUX  PLM PLAN D'ORGON  PRA FEILLENS\n",
      "Source                                                                        \n",
      "GUIDEZ MONCHY LE PREUX                     0.0            -125.0          74.0\n",
      "PLM PLAN D'ORGON                         125.0               0.0         -35.0\n",
      "PRA FEILLENS                             -74.0              35.0           0.0\n"
     ]
    }
   ],
   "source": [
    "data = {\n",
    "    'Source': ['PRA FEILLENS', 'PRA FEILLENS', 'PLM PLAN D\\'ORGON', 'PLM PLAN D\\'ORGON', 'GUIDEZ MONCHY LE PREUX', 'GUIDEZ MONCHY LE PREUX'],\n",
    "    'Destination': ['PLM PLAN D\\'ORGON', 'GUIDEZ MONCHY LE PREUX', 'GUIDEZ MONCHY LE PREUX', 'PRA FEILLENS', 'PRA FEILLENS', 'PLM PLAN D\\'ORGON'],\n",
    "    'Valeur': [35, -74, 125, -35, 74, -125]\n",
    "}\n",
    "\n",
    "data = pd.DataFrame(data)\n",
    "\n",
    "# Transformation en matrice asymétrique\n",
    "df_init = data.pivot(index='Source', columns='Destination', values='Valeur')\n",
    "df_init = df_init.fillna(0)\n",
    "# Remplacer les NaN par 0 pour les valeurs absentes\n",
    "\n",
    "print(df_init)"
   ]
  },
  {
   "cell_type": "markdown",
   "metadata": {},
   "source": [
    "* Lire par ligne. Exemple : Guidez Monchy à un solde de -125 Pal avec PLM. Donc PLM doit rendre 125 a Guidez Monchy"
   ]
  },
  {
   "cell_type": "code",
   "execution_count": 26,
   "metadata": {},
   "outputs": [
    {
     "data": {
      "text/html": [
       "<div>\n",
       "<style scoped>\n",
       "    .dataframe tbody tr th:only-of-type {\n",
       "        vertical-align: middle;\n",
       "    }\n",
       "\n",
       "    .dataframe tbody tr th {\n",
       "        vertical-align: top;\n",
       "    }\n",
       "\n",
       "    .dataframe thead th {\n",
       "        text-align: right;\n",
       "    }\n",
       "</style>\n",
       "<table border=\"1\" class=\"dataframe\">\n",
       "  <thead>\n",
       "    <tr style=\"text-align: right;\">\n",
       "      <th>Destination</th>\n",
       "      <th>GUIDEZ MONCHY LE PREUX</th>\n",
       "      <th>PLM PLAN D'ORGON</th>\n",
       "      <th>PRA FEILLENS</th>\n",
       "    </tr>\n",
       "    <tr>\n",
       "      <th>Source</th>\n",
       "      <th></th>\n",
       "      <th></th>\n",
       "      <th></th>\n",
       "    </tr>\n",
       "  </thead>\n",
       "  <tbody>\n",
       "    <tr>\n",
       "      <th>GUIDEZ MONCHY LE PREUX</th>\n",
       "      <td>0.0</td>\n",
       "      <td>-125.0</td>\n",
       "      <td>74.0</td>\n",
       "    </tr>\n",
       "    <tr>\n",
       "      <th>PLM PLAN D'ORGON</th>\n",
       "      <td>125.0</td>\n",
       "      <td>0.0</td>\n",
       "      <td>-35.0</td>\n",
       "    </tr>\n",
       "    <tr>\n",
       "      <th>PRA FEILLENS</th>\n",
       "      <td>-74.0</td>\n",
       "      <td>35.0</td>\n",
       "      <td>0.0</td>\n",
       "    </tr>\n",
       "  </tbody>\n",
       "</table>\n",
       "</div>"
      ],
      "text/plain": [
       "Destination             GUIDEZ MONCHY LE PREUX  PLM PLAN D'ORGON  PRA FEILLENS\n",
       "Source                                                                        \n",
       "GUIDEZ MONCHY LE PREUX                     0.0            -125.0          74.0\n",
       "PLM PLAN D'ORGON                         125.0               0.0         -35.0\n",
       "PRA FEILLENS                             -74.0              35.0           0.0"
      ]
     },
     "execution_count": 26,
     "metadata": {},
     "output_type": "execute_result"
    }
   ],
   "source": [
    "df_init"
   ]
  },
  {
   "cell_type": "code",
   "execution_count": 27,
   "metadata": {},
   "outputs": [],
   "source": [
    "df= df_init.copy()\n"
   ]
  },
  {
   "cell_type": "code",
   "execution_count": 28,
   "metadata": {},
   "outputs": [],
   "source": [
    "def balance_two_accounts(df, agency1, agency2):\n",
    "    steps = []  # Liste pour stocker les étapes de transfert\n",
    "\n",
    "    # Etape 1 : Équilibrer agency1 vers agency2\n",
    "    val_col = df.at[agency2, agency1]\n",
    "    if val_col != 0:\n",
    "        df.at[agency2, agency1] = 0  # Mettre à zéro la colonne agency1 de agency2\n",
    "        print(f\"Step 1: Transfer {val_col} from {agency1} to {agency2}\")\n",
    "        condition = (df[agency1] != val_col) & (df[agency1] != 0)\n",
    "        df.loc[condition, agency1] += val_col\n",
    "        df.loc[agency1, condition] -= val_col\n",
    "        # steps.append(f\"Transfer {val_col} from {agency1} to {agency2}\")\n",
    "\n",
    "    # Etape 2 : Équilibrer agency2 vers agency1\n",
    "    val_col = df.at[agency1, agency2]\n",
    "    if val_col != 0:\n",
    "        df.at[agency1, agency2] = 0  # Mettre à zéro la colonne agency2 de agency1\n",
    "        print(f\"Step 2: Transfer {val_col} from {agency2} to {agency1}\")\n",
    "        condition = (df[agency2] != val_col) & (df[agency2] != 0)\n",
    "        df.loc[condition, agency2] += val_col\n",
    "        df.loc[agency2, condition] -= val_col\n",
    "        # steps.append(f\"Transfer {val_col} from {agency2} to {agency1}\")\n",
    "\n",
    "    return steps\n",
    "\n"
   ]
  },
  {
   "cell_type": "code",
   "execution_count": 29,
   "metadata": {},
   "outputs": [
    {
     "name": "stdout",
     "output_type": "stream",
     "text": [
      "Step 1: Transfer -125.0 from PLM PLAN D'ORGON to GUIDEZ MONCHY LE PREUX\n",
      "Step 2: Transfer 125.0 from GUIDEZ MONCHY LE PREUX to PLM PLAN D'ORGON\n"
     ]
    }
   ],
   "source": [
    "# Définir les agences pour le transfert\n",
    "agency1 = \"PLM PLAN D'ORGON\"\n",
    "agency2 = \"GUIDEZ MONCHY LE PREUX\"\n",
    "\n",
    "# Appeler la fonction pour équilibrer les comptes\n",
    "transfer_steps = balance_two_accounts(df, agency1, agency2)\n",
    "\n",
    "# Afficher le DataFrame après les transferts\n"
   ]
  },
  {
   "cell_type": "code",
   "execution_count": 30,
   "metadata": {},
   "outputs": [
    {
     "name": "stdout",
     "output_type": "stream",
     "text": [
      "\n",
      "DataFrame après les transferts :\n",
      "Destination             GUIDEZ MONCHY LE PREUX  PLM PLAN D'ORGON  PRA FEILLENS\n",
      "Source                                                                        \n",
      "GUIDEZ MONCHY LE PREUX                     0.0               0.0         -51.0\n",
      "PLM PLAN D'ORGON                           0.0               0.0          90.0\n",
      "PRA FEILLENS                              51.0             -90.0           0.0\n",
      "\n",
      "Steps de transfert :\n",
      "Transfer -125.0 from PLM PLAN D'ORGON to GUIDEZ MONCHY LE PREUX\n",
      "Transfer 125.0 from GUIDEZ MONCHY LE PREUX to PLM PLAN D'ORGON\n"
     ]
    }
   ],
   "source": [
    "print(\"\\nDataFrame après les transferts :\")\n",
    "print(df)\n",
    "\n",
    "# Afficher les étapes de transfert\n",
    "print(\"\\nSteps de transfert :\")\n",
    "for step in transfer_steps:\n",
    "    print(step)\n"
   ]
  },
  {
   "cell_type": "code",
   "execution_count": 31,
   "metadata": {},
   "outputs": [
    {
     "data": {
      "text/html": [
       "<div>\n",
       "<style scoped>\n",
       "    .dataframe tbody tr th:only-of-type {\n",
       "        vertical-align: middle;\n",
       "    }\n",
       "\n",
       "    .dataframe tbody tr th {\n",
       "        vertical-align: top;\n",
       "    }\n",
       "\n",
       "    .dataframe thead th {\n",
       "        text-align: right;\n",
       "    }\n",
       "</style>\n",
       "<table border=\"1\" class=\"dataframe\">\n",
       "  <thead>\n",
       "    <tr style=\"text-align: right;\">\n",
       "      <th>Destination</th>\n",
       "      <th>GUIDEZ MONCHY LE PREUX</th>\n",
       "      <th>PLM PLAN D'ORGON</th>\n",
       "      <th>PRA FEILLENS</th>\n",
       "    </tr>\n",
       "    <tr>\n",
       "      <th>Source</th>\n",
       "      <th></th>\n",
       "      <th></th>\n",
       "      <th></th>\n",
       "    </tr>\n",
       "  </thead>\n",
       "  <tbody>\n",
       "    <tr>\n",
       "      <th>GUIDEZ MONCHY LE PREUX</th>\n",
       "      <td>0.0</td>\n",
       "      <td>-125.0</td>\n",
       "      <td>74.0</td>\n",
       "    </tr>\n",
       "    <tr>\n",
       "      <th>PLM PLAN D'ORGON</th>\n",
       "      <td>125.0</td>\n",
       "      <td>0.0</td>\n",
       "      <td>-35.0</td>\n",
       "    </tr>\n",
       "    <tr>\n",
       "      <th>PRA FEILLENS</th>\n",
       "      <td>-74.0</td>\n",
       "      <td>35.0</td>\n",
       "      <td>0.0</td>\n",
       "    </tr>\n",
       "  </tbody>\n",
       "</table>\n",
       "</div>"
      ],
      "text/plain": [
       "Destination             GUIDEZ MONCHY LE PREUX  PLM PLAN D'ORGON  PRA FEILLENS\n",
       "Source                                                                        \n",
       "GUIDEZ MONCHY LE PREUX                     0.0            -125.0          74.0\n",
       "PLM PLAN D'ORGON                         125.0               0.0         -35.0\n",
       "PRA FEILLENS                             -74.0              35.0           0.0"
      ]
     },
     "execution_count": 31,
     "metadata": {},
     "output_type": "execute_result"
    }
   ],
   "source": [
    "df_init"
   ]
  }
 ],
 "metadata": {
  "kernelspec": {
   "display_name": "base",
   "language": "python",
   "name": "python3"
  },
  "language_info": {
   "codemirror_mode": {
    "name": "ipython",
    "version": 3
   },
   "file_extension": ".py",
   "mimetype": "text/x-python",
   "name": "python",
   "nbconvert_exporter": "python",
   "pygments_lexer": "ipython3",
   "version": "3.11.5"
  }
 },
 "nbformat": 4,
 "nbformat_minor": 2
}
