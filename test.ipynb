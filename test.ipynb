{
 "cells": [
  {
   "cell_type": "code",
   "execution_count": 1,
   "metadata": {},
   "outputs": [
    {
     "data": {
      "text/html": [
       "<div>\n",
       "<style scoped>\n",
       "    .dataframe tbody tr th:only-of-type {\n",
       "        vertical-align: middle;\n",
       "    }\n",
       "\n",
       "    .dataframe tbody tr th {\n",
       "        vertical-align: top;\n",
       "    }\n",
       "\n",
       "    .dataframe thead th {\n",
       "        text-align: right;\n",
       "    }\n",
       "</style>\n",
       "<table border=\"1\" class=\"dataframe\">\n",
       "  <thead>\n",
       "    <tr style=\"text-align: right;\">\n",
       "      <th></th>\n",
       "      <th>agence_1</th>\n",
       "      <th>agence_2</th>\n",
       "      <th>Solde</th>\n",
       "      <th>Solde confirmé ?</th>\n",
       "    </tr>\n",
       "  </thead>\n",
       "  <tbody>\n",
       "    <tr>\n",
       "      <th>0</th>\n",
       "      <td>GUIDEZ MONCHY LE PREUX</td>\n",
       "      <td>PLM PLAN D'ORGON</td>\n",
       "      <td>-125</td>\n",
       "      <td>Oui</td>\n",
       "    </tr>\n",
       "    <tr>\n",
       "      <th>1</th>\n",
       "      <td>PLM PLAN D'ORGON</td>\n",
       "      <td>PRA FEILLENS</td>\n",
       "      <td>-35</td>\n",
       "      <td>Oui</td>\n",
       "    </tr>\n",
       "    <tr>\n",
       "      <th>2</th>\n",
       "      <td>PRA FEILLENS</td>\n",
       "      <td>GUIDEZ MONCHY LE PREUX</td>\n",
       "      <td>-74</td>\n",
       "      <td>Oui</td>\n",
       "    </tr>\n",
       "    <tr>\n",
       "      <th>3</th>\n",
       "      <td>PLM PLAN D'ORGON</td>\n",
       "      <td>GUIDEZ MONCHY LE PREUX</td>\n",
       "      <td>125</td>\n",
       "      <td>Oui</td>\n",
       "    </tr>\n",
       "    <tr>\n",
       "      <th>4</th>\n",
       "      <td>PRA FEILLENS</td>\n",
       "      <td>PLM PLAN D'ORGON</td>\n",
       "      <td>35</td>\n",
       "      <td>Oui</td>\n",
       "    </tr>\n",
       "    <tr>\n",
       "      <th>5</th>\n",
       "      <td>GUIDEZ MONCHY LE PREUX</td>\n",
       "      <td>PRA FEILLENS</td>\n",
       "      <td>74</td>\n",
       "      <td>Oui</td>\n",
       "    </tr>\n",
       "  </tbody>\n",
       "</table>\n",
       "</div>"
      ],
      "text/plain": [
       "                 agence_1                agence_2  Solde Solde confirmé ?\n",
       "0  GUIDEZ MONCHY LE PREUX        PLM PLAN D'ORGON   -125              Oui\n",
       "1        PLM PLAN D'ORGON            PRA FEILLENS    -35              Oui\n",
       "2            PRA FEILLENS  GUIDEZ MONCHY LE PREUX    -74              Oui\n",
       "3        PLM PLAN D'ORGON  GUIDEZ MONCHY LE PREUX    125              Oui\n",
       "4            PRA FEILLENS        PLM PLAN D'ORGON     35              Oui\n",
       "5  GUIDEZ MONCHY LE PREUX            PRA FEILLENS     74              Oui"
      ]
     },
     "execution_count": 1,
     "metadata": {},
     "output_type": "execute_result"
    }
   ],
   "source": [
    "import pandas as pd\n",
    "from utiles import * \n",
    "\n",
    "# DataFrame initial\n",
    "data = {\n",
    "    'agence_1': ['GUIDEZ MONCHY LE PREUX', 'PLM PLAN D\\'ORGON', 'PRA FEILLENS', 'PLM PLAN D\\'ORGON', 'PRA FEILLENS', 'GUIDEZ MONCHY LE PREUX'],\n",
    "    'agence_2': ['PLM PLAN D\\'ORGON', 'PRA FEILLENS', 'GUIDEZ MONCHY LE PREUX', 'GUIDEZ MONCHY LE PREUX', 'PLM PLAN D\\'ORGON', 'PRA FEILLENS'],\n",
    "    'Solde': [-125, -35, -74, 125, 35, 74],\n",
    "    'Solde confirmé ?': ['Oui', 'Oui', 'Oui', 'Oui', 'Oui', 'Oui']\n",
    "}\n",
    "df_final = pd.DataFrame(data)\n",
    "df_final"
   ]
  },
  {
   "cell_type": "code",
   "execution_count": 2,
   "metadata": {},
   "outputs": [],
   "source": [
    "def reverse_asymetric_matrix(asymmetric_matrix):\n",
    "    data_reversed = []\n",
    "    for agence_1 in asymmetric_matrix.index:\n",
    "        for agence_2 in asymmetric_matrix.columns:\n",
    "            if asymmetric_matrix.loc[agence_1, agence_2] != 0:\n",
    "                data_reversed.append([agence_1, agence_2, asymmetric_matrix.loc[agence_1, agence_2], 'Oui'])\n",
    "\n",
    "    reversed_asymmetric_matrix = pd.DataFrame(data_reversed, columns=['agence_1', 'agence_2', 'Solde', 'Solde confirmé ?'])\n",
    "    reversed_asymmetric_matrix.reset_index()\n",
    "    # Ajout de l'index\n",
    "    return reversed_asymmetric_matrix"
   ]
  },
  {
   "cell_type": "code",
   "execution_count": 3,
   "metadata": {},
   "outputs": [
    {
     "data": {
      "text/html": [
       "<div>\n",
       "<style scoped>\n",
       "    .dataframe tbody tr th:only-of-type {\n",
       "        vertical-align: middle;\n",
       "    }\n",
       "\n",
       "    .dataframe tbody tr th {\n",
       "        vertical-align: top;\n",
       "    }\n",
       "\n",
       "    .dataframe thead th {\n",
       "        text-align: right;\n",
       "    }\n",
       "</style>\n",
       "<table border=\"1\" class=\"dataframe\">\n",
       "  <thead>\n",
       "    <tr style=\"text-align: right;\">\n",
       "      <th>agence_2</th>\n",
       "      <th>GUIDEZ MONCHY LE PREUX</th>\n",
       "      <th>PLM PLAN D'ORGON</th>\n",
       "      <th>PRA FEILLENS</th>\n",
       "    </tr>\n",
       "    <tr>\n",
       "      <th>agence_1</th>\n",
       "      <th></th>\n",
       "      <th></th>\n",
       "      <th></th>\n",
       "    </tr>\n",
       "  </thead>\n",
       "  <tbody>\n",
       "    <tr>\n",
       "      <th>GUIDEZ MONCHY LE PREUX</th>\n",
       "      <td>0.0</td>\n",
       "      <td>-125.0</td>\n",
       "      <td>74.0</td>\n",
       "    </tr>\n",
       "    <tr>\n",
       "      <th>PLM PLAN D'ORGON</th>\n",
       "      <td>125.0</td>\n",
       "      <td>0.0</td>\n",
       "      <td>-35.0</td>\n",
       "    </tr>\n",
       "    <tr>\n",
       "      <th>PRA FEILLENS</th>\n",
       "      <td>-74.0</td>\n",
       "      <td>35.0</td>\n",
       "      <td>0.0</td>\n",
       "    </tr>\n",
       "  </tbody>\n",
       "</table>\n",
       "</div>"
      ],
      "text/plain": [
       "agence_2                GUIDEZ MONCHY LE PREUX  PLM PLAN D'ORGON  PRA FEILLENS\n",
       "agence_1                                                                      \n",
       "GUIDEZ MONCHY LE PREUX                     0.0            -125.0          74.0\n",
       "PLM PLAN D'ORGON                         125.0               0.0         -35.0\n",
       "PRA FEILLENS                             -74.0              35.0           0.0"
      ]
     },
     "execution_count": 3,
     "metadata": {},
     "output_type": "execute_result"
    }
   ],
   "source": [
    "agency1 = \"PLM PLAN D'ORGON\"\n",
    "agency2 = \"GUIDEZ MONCHY LE PREUX\"\n",
    "\n",
    "asymmetric_matrix = df_final.pivot(index='agence_1', columns='agence_2', values='Solde')\n",
    "asymmetric_matrix = asymmetric_matrix.fillna(0)\n",
    "asymmetric_matrix"
   ]
  },
  {
   "cell_type": "code",
   "execution_count": 4,
   "metadata": {},
   "outputs": [
    {
     "name": "stdout",
     "output_type": "stream",
     "text": [
      "Step 1: Transfer -125.0 from PLM PLAN D'ORGON to GUIDEZ MONCHY LE PREUX\n",
      "Step 2: Transfer 125.0 from GUIDEZ MONCHY LE PREUX to PLM PLAN D'ORGON\n"
     ]
    },
    {
     "data": {
      "text/html": [
       "<div>\n",
       "<style scoped>\n",
       "    .dataframe tbody tr th:only-of-type {\n",
       "        vertical-align: middle;\n",
       "    }\n",
       "\n",
       "    .dataframe tbody tr th {\n",
       "        vertical-align: top;\n",
       "    }\n",
       "\n",
       "    .dataframe thead th {\n",
       "        text-align: right;\n",
       "    }\n",
       "</style>\n",
       "<table border=\"1\" class=\"dataframe\">\n",
       "  <thead>\n",
       "    <tr style=\"text-align: right;\">\n",
       "      <th>agence_2</th>\n",
       "      <th>GUIDEZ MONCHY LE PREUX</th>\n",
       "      <th>PLM PLAN D'ORGON</th>\n",
       "      <th>PRA FEILLENS</th>\n",
       "    </tr>\n",
       "    <tr>\n",
       "      <th>agence_1</th>\n",
       "      <th></th>\n",
       "      <th></th>\n",
       "      <th></th>\n",
       "    </tr>\n",
       "  </thead>\n",
       "  <tbody>\n",
       "    <tr>\n",
       "      <th>GUIDEZ MONCHY LE PREUX</th>\n",
       "      <td>0.0</td>\n",
       "      <td>0.0</td>\n",
       "      <td>-51.0</td>\n",
       "    </tr>\n",
       "    <tr>\n",
       "      <th>PLM PLAN D'ORGON</th>\n",
       "      <td>0.0</td>\n",
       "      <td>0.0</td>\n",
       "      <td>90.0</td>\n",
       "    </tr>\n",
       "    <tr>\n",
       "      <th>PRA FEILLENS</th>\n",
       "      <td>51.0</td>\n",
       "      <td>-90.0</td>\n",
       "      <td>0.0</td>\n",
       "    </tr>\n",
       "  </tbody>\n",
       "</table>\n",
       "</div>"
      ],
      "text/plain": [
       "agence_2                GUIDEZ MONCHY LE PREUX  PLM PLAN D'ORGON  PRA FEILLENS\n",
       "agence_1                                                                      \n",
       "GUIDEZ MONCHY LE PREUX                     0.0               0.0         -51.0\n",
       "PLM PLAN D'ORGON                           0.0               0.0          90.0\n",
       "PRA FEILLENS                              51.0             -90.0           0.0"
      ]
     },
     "execution_count": 4,
     "metadata": {},
     "output_type": "execute_result"
    }
   ],
   "source": [
    "balance_two_accounts(asymmetric_matrix, agency1, agency2)\n",
    "asymmetric_matrix"
   ]
  },
  {
   "cell_type": "code",
   "execution_count": 5,
   "metadata": {},
   "outputs": [
    {
     "data": {
      "text/html": [
       "<div>\n",
       "<style scoped>\n",
       "    .dataframe tbody tr th:only-of-type {\n",
       "        vertical-align: middle;\n",
       "    }\n",
       "\n",
       "    .dataframe tbody tr th {\n",
       "        vertical-align: top;\n",
       "    }\n",
       "\n",
       "    .dataframe thead th {\n",
       "        text-align: right;\n",
       "    }\n",
       "</style>\n",
       "<table border=\"1\" class=\"dataframe\">\n",
       "  <thead>\n",
       "    <tr style=\"text-align: right;\">\n",
       "      <th></th>\n",
       "      <th>agence_1</th>\n",
       "      <th>agence_2</th>\n",
       "      <th>Solde</th>\n",
       "      <th>Solde confirmé ?</th>\n",
       "    </tr>\n",
       "  </thead>\n",
       "  <tbody>\n",
       "    <tr>\n",
       "      <th>0</th>\n",
       "      <td>GUIDEZ MONCHY LE PREUX</td>\n",
       "      <td>PRA FEILLENS</td>\n",
       "      <td>-51.0</td>\n",
       "      <td>Oui</td>\n",
       "    </tr>\n",
       "    <tr>\n",
       "      <th>1</th>\n",
       "      <td>PLM PLAN D'ORGON</td>\n",
       "      <td>PRA FEILLENS</td>\n",
       "      <td>90.0</td>\n",
       "      <td>Oui</td>\n",
       "    </tr>\n",
       "    <tr>\n",
       "      <th>2</th>\n",
       "      <td>PRA FEILLENS</td>\n",
       "      <td>GUIDEZ MONCHY LE PREUX</td>\n",
       "      <td>51.0</td>\n",
       "      <td>Oui</td>\n",
       "    </tr>\n",
       "    <tr>\n",
       "      <th>3</th>\n",
       "      <td>PRA FEILLENS</td>\n",
       "      <td>PLM PLAN D'ORGON</td>\n",
       "      <td>-90.0</td>\n",
       "      <td>Oui</td>\n",
       "    </tr>\n",
       "  </tbody>\n",
       "</table>\n",
       "</div>"
      ],
      "text/plain": [
       "                 agence_1                agence_2  Solde Solde confirmé ?\n",
       "0  GUIDEZ MONCHY LE PREUX            PRA FEILLENS  -51.0              Oui\n",
       "1        PLM PLAN D'ORGON            PRA FEILLENS   90.0              Oui\n",
       "2            PRA FEILLENS  GUIDEZ MONCHY LE PREUX   51.0              Oui\n",
       "3            PRA FEILLENS        PLM PLAN D'ORGON  -90.0              Oui"
      ]
     },
     "execution_count": 5,
     "metadata": {},
     "output_type": "execute_result"
    }
   ],
   "source": [
    "reversed_asymmetric_matrix = reverse_asymetric_matrix(asymmetric_matrix)\n",
    "reversed_asymmetric_matrix"
   ]
  },
  {
   "cell_type": "code",
   "execution_count": 7,
   "metadata": {},
   "outputs": [
    {
     "ename": "AttributeError",
     "evalue": "'list' object has no attribute 'unique'",
     "output_type": "error",
     "traceback": [
      "\u001b[1;31m---------------------------------------------------------------------------\u001b[0m",
      "\u001b[1;31mAttributeError\u001b[0m                            Traceback (most recent call last)",
      "Cell \u001b[1;32mIn[7], line 1\u001b[0m\n\u001b[1;32m----> 1\u001b[0m \u001b[38;5;28;43mlist\u001b[39;49m\u001b[43m(\u001b[49m\u001b[43mdf_final\u001b[49m\u001b[43m[\u001b[49m\u001b[38;5;124;43m'\u001b[39;49m\u001b[38;5;124;43magence_1\u001b[39;49m\u001b[38;5;124;43m'\u001b[39;49m\u001b[43m]\u001b[49m\u001b[43m)\u001b[49m\u001b[38;5;241;43m.\u001b[39;49m\u001b[43munique\u001b[49m()\n",
      "\u001b[1;31mAttributeError\u001b[0m: 'list' object has no attribute 'unique'"
     ]
    }
   ],
   "source": [
    "list(df_final['agence_1'].unique())"
   ]
  },
  {
   "cell_type": "code",
   "execution_count": null,
   "metadata": {},
   "outputs": [],
   "source": []
  }
 ],
 "metadata": {
  "kernelspec": {
   "display_name": "base",
   "language": "python",
   "name": "python3"
  },
  "language_info": {
   "codemirror_mode": {
    "name": "ipython",
    "version": 3
   },
   "file_extension": ".py",
   "mimetype": "text/x-python",
   "name": "python",
   "nbconvert_exporter": "python",
   "pygments_lexer": "ipython3",
   "version": "3.11.5"
  }
 },
 "nbformat": 4,
 "nbformat_minor": 2
}
